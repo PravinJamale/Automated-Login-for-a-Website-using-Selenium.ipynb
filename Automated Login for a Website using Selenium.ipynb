{
 "cells": [
  {
   "cell_type": "code",
   "execution_count": 1,
   "id": "b770fdf4",
   "metadata": {},
   "outputs": [],
   "source": [
    "from selenium import webdriver\n",
    "import time # Introduce Delay between the operations"
   ]
  },
  {
   "cell_type": "code",
   "execution_count": 2,
   "id": "6176c7d5",
   "metadata": {},
   "outputs": [
    {
     "name": "stderr",
     "output_type": "stream",
     "text": [
      "The version of chrome cannot be detected. Trying with latest driver version\n"
     ]
    }
   ],
   "source": [
    "# Create a connection with your browser\n",
    "\n",
    "browser = webdriver.Chrome()\n",
    "\n",
    "# Maximize the Browser window\n",
    "browser.maximize_window()\n",
    "\n",
    "# Open the Website\n",
    "browser.get(\"https://www.hackveda.in/one2one\")\n",
    "time.sleep(2)"
   ]
  },
  {
   "cell_type": "code",
   "execution_count": 3,
   "id": "5d800685",
   "metadata": {},
   "outputs": [
    {
     "data": {
      "text/plain": [
       "<selenium.webdriver.remote.webelement.WebElement (session=\"a9c03e7bb3f47f5e0c4f7f8a3d735e51\", element=\"AEC135EA8CAAE04AA44B888DFA3539E5_element_8\")>"
      ]
     },
     "execution_count": 3,
     "metadata": {},
     "output_type": "execute_result"
    }
   ],
   "source": [
    "username = browser.find_element(\"id\", \"email\")\n",
    "username"
   ]
  },
  {
   "cell_type": "code",
   "execution_count": 4,
   "id": "b827f7ab",
   "metadata": {},
   "outputs": [],
   "source": [
    "username.send_keys(\"jamalepravin2001@gmail.com\")\n",
    "time.sleep(2)"
   ]
  },
  {
   "cell_type": "code",
   "execution_count": 5,
   "id": "7cffcbc8",
   "metadata": {},
   "outputs": [],
   "source": [
    "password = browser.find_element(\"id\", \"password\")\n",
    "password.send_keys(\"63\")\n",
    "time.sleep(2)"
   ]
  },
  {
   "cell_type": "code",
   "execution_count": 6,
   "id": "c5099903",
   "metadata": {
    "scrolled": false
   },
   "outputs": [],
   "source": [
    "button = browser.find_element(\"id\", \"login_btn\")\n",
    "time.sleep(5)\n",
    "button.click()\n",
    "\n",
    "\n",
    "\n",
    "#<button id=\"login_btn\" type=\"button\" class=\"button rounded green wide ae-9 cropBottom done\" name=\"button\">Sign in</button>"
   ]
  },
  {
   "cell_type": "code",
   "execution_count": null,
   "id": "3c73c400",
   "metadata": {},
   "outputs": [],
   "source": []
  }
 ],
 "metadata": {
  "kernelspec": {
   "display_name": "Python 3 (ipykernel)",
   "language": "python",
   "name": "python3"
  },
  "language_info": {
   "codemirror_mode": {
    "name": "ipython",
    "version": 3
   },
   "file_extension": ".py",
   "mimetype": "text/x-python",
   "name": "python",
   "nbconvert_exporter": "python",
   "pygments_lexer": "ipython3",
   "version": "3.10.9"
  }
 },
 "nbformat": 4,
 "nbformat_minor": 5
}
